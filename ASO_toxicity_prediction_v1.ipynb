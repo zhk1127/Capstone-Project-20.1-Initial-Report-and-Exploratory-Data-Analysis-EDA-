{
 "cells": [
  {
   "cell_type": "markdown",
   "id": "ad1f667e-d50e-4836-afbb-e6b4c8110f56",
   "metadata": {},
   "source": [
    "### Using Different Regression Models to Predict ASO toxicity\n",
    "**Goal:** The goal of this project is to identify more effective algorithms to predict antisense nucleotides (ASO) toxicity based on their sequence features. We will be training several linear regression models without regularization or with regularization (L1 and L2) to predict ASO toxicity based on the linear combination of their sequence features. We will used the new models to identify the features which most effectively enhance the accuracy of predicting whether a ASO is toxic or not.\n",
    "\n",
    "**Data Problem:** The data task is to train and tune multiple linear regression models with or without regularization to predict the toxicity score of ASOs based on their sequence features.\n",
    "\n",
    "**Expected Results:** The expected results would be several models using linear combination of some selected sequence features from an antisense oligonucleotide (ASO) to predict its toxicity. The prediction results are continuous and not binary, but we can choose different thresholds to define a toxic ASO versus a non-toxic ASO and convert the result to binary labels. Then we can use confusion matrix or receiver operation curve (ROC) to compare the performance of different models. In the original paper, a linear regression model is published for this purpose and my goal is to reproduce the authors’ key results by building a similar or even better models.  \n",
    "\n",
    "**Data:**\n",
    "The data is a from published literature by Roche in 2022.\n",
    "\n",
    "Link: https://www.ncbi.nlm.nih.gov/pmc/articles/PMC9221153\n",
    "\n",
    "This paper has a supplementary table which contains 1,800 antisense oligonucleotides sequences and their performance in a calcium assay. Measured calcium score can be used as a indicator for ASO toxicity. The ASOs with smaller calcium score are more toxic than these with greater calcium scores.\n",
    "\n",
    "**Importance:**\n",
    "My research question is important because big pharmaceutical companies like Roche, Biogen, Eli Lilly can spend >100 millions of dollars in developing genetic medicine (e.g. ASO) to treatment human disease. Currently, they rely on animal experiments and empirical evidence to determine the toxicity of an ASO. It is expensive and also time consuming. The capability to design a ASO without potential toxicity can streamline the whole drug development process and can create real values for these pharmaceutical companies. It is super important to figure out the sequence features within an ASO which can predict its toxcity.\n"
   ]
  },
  {
   "cell_type": "code",
   "execution_count": 21,
   "id": "4f6769e8",
   "metadata": {},
   "outputs": [],
   "source": [
    "import pandas as pd\n",
    "import numpy as np\n",
    "import matplotlib.pyplot as plt\n",
    "import warnings\n",
    "\n",
    "from sklearn.preprocessing import StandardScaler\n",
    "from sklearn.model_selection import GridSearchCV, train_test_split\n",
    "from sklearn.linear_model import Ridge, Lasso, LinearRegression\n",
    "from sklearn.metrics import confusion_matrix, precision_score, recall_score, accuracy_score, ConfusionMatrixDisplay\n",
    "from sklearn.pipeline import Pipeline\n",
    "from sklearn import set_config\n",
    "from sklearn.metrics import mean_squared_error\n",
    "\n",
    "warnings.simplefilter(action='ignore', category=FutureWarning)\n",
    "set_config(\"display\")"
   ]
  },
  {
   "cell_type": "code",
   "execution_count": 22,
   "id": "43b4597a",
   "metadata": {},
   "outputs": [],
   "source": [
    "# load the data from a CSV file\n",
    "df=pd.read_csv(\"C:\\\\Users\\\\zhk11\\\\Desktop\\\\Capstone project\\\\data and code\\\\Hagedorn_Suppl_TableS1_v1.csv\")\n",
    "# define the toxcic ASOs as the one that have measured calcium score smaller than 75\n",
    "df.loc[df['Measured_CaO_score_cells'] <75,'tox_label'] ='yes'\n",
    "df.loc[df['Measured_CaO_score_cells'] >= 75,'tox_label'] ='no'"
   ]
  },
  {
   "cell_type": "code",
   "execution_count": 3,
   "id": "367cc39d",
   "metadata": {},
   "outputs": [
    {
     "name": "stdout",
     "output_type": "stream",
     "text": [
      "<class 'pandas.core.frame.DataFrame'>\n",
      "RangeIndex: 1825 entries, 0 to 1824\n",
      "Data columns (total 19 columns):\n",
      " #   Column                      Non-Null Count  Dtype  \n",
      "---  ------                      --------------  -----  \n",
      " 0   Sequence                    1825 non-null   object \n",
      " 1   Set                         1825 non-null   object \n",
      " 2   MaxLength_A                 1825 non-null   int64  \n",
      " 3   MaxLength_T                 1825 non-null   int64  \n",
      " 4   MaxLength_G                 1825 non-null   int64  \n",
      " 5   MaxLength_C                 1825 non-null   int64  \n",
      " 6   Target                      1825 non-null   object \n",
      " 7   Length                      1825 non-null   int64  \n",
      " 8   Number_LNA                  1825 non-null   int64  \n",
      " 9   Number_A                    1825 non-null   int64  \n",
      " 10  Number_C                    1825 non-null   int64  \n",
      " 11  Number_T                    1825 non-null   int64  \n",
      " 12  Number_G                    1825 non-null   int64  \n",
      " 13  Length_Gfree_5              1825 non-null   int64  \n",
      " 14  Length_Gfree_3              1825 non-null   int64  \n",
      " 15  Calculated_score            1825 non-null   float64\n",
      " 16  Measured_CaO_score_cells    1825 non-null   float64\n",
      " 17  Acute_tolerance_score_mice  181 non-null    float64\n",
      " 18  tox_label                   1825 non-null   object \n",
      "dtypes: float64(3), int64(12), object(4)\n",
      "memory usage: 271.0+ KB\n"
     ]
    }
   ],
   "source": [
    "df.info()"
   ]
  },
  {
   "cell_type": "code",
   "execution_count": 5,
   "id": "7ac18aac",
   "metadata": {},
   "outputs": [
    {
     "data": {
      "text/html": [
       "<div>\n",
       "<style scoped>\n",
       "    .dataframe tbody tr th:only-of-type {\n",
       "        vertical-align: middle;\n",
       "    }\n",
       "\n",
       "    .dataframe tbody tr th {\n",
       "        vertical-align: top;\n",
       "    }\n",
       "\n",
       "    .dataframe thead th {\n",
       "        text-align: right;\n",
       "    }\n",
       "</style>\n",
       "<table border=\"1\" class=\"dataframe\">\n",
       "  <thead>\n",
       "    <tr style=\"text-align: right;\">\n",
       "      <th></th>\n",
       "      <th>Sequence</th>\n",
       "      <th>Set</th>\n",
       "      <th>MaxLength_A</th>\n",
       "      <th>MaxLength_T</th>\n",
       "      <th>MaxLength_G</th>\n",
       "      <th>MaxLength_C</th>\n",
       "      <th>Target</th>\n",
       "      <th>Length</th>\n",
       "      <th>Number_LNA</th>\n",
       "      <th>Number_A</th>\n",
       "      <th>Number_C</th>\n",
       "      <th>Number_T</th>\n",
       "      <th>Number_G</th>\n",
       "      <th>Length_Gfree_5</th>\n",
       "      <th>Length_Gfree_3</th>\n",
       "      <th>Calculated_score</th>\n",
       "      <th>Measured_CaO_score_cells</th>\n",
       "      <th>Acute_tolerance_score_mice</th>\n",
       "      <th>tox_label</th>\n",
       "    </tr>\n",
       "  </thead>\n",
       "  <tbody>\n",
       "    <tr>\n",
       "      <th>0</th>\n",
       "      <td>AAAtctataataaccacCAC</td>\n",
       "      <td>Control</td>\n",
       "      <td>3</td>\n",
       "      <td>1</td>\n",
       "      <td>0</td>\n",
       "      <td>2</td>\n",
       "      <td>None</td>\n",
       "      <td>20</td>\n",
       "      <td>6</td>\n",
       "      <td>10</td>\n",
       "      <td>6</td>\n",
       "      <td>4</td>\n",
       "      <td>0</td>\n",
       "      <td>20</td>\n",
       "      <td>20</td>\n",
       "      <td>82.36</td>\n",
       "      <td>80.17</td>\n",
       "      <td>0.0</td>\n",
       "      <td>no</td>\n",
       "    </tr>\n",
       "    <tr>\n",
       "      <th>1</th>\n",
       "      <td>CAAAtcatccatctatAAAC</td>\n",
       "      <td>Control</td>\n",
       "      <td>3</td>\n",
       "      <td>1</td>\n",
       "      <td>0</td>\n",
       "      <td>2</td>\n",
       "      <td>None</td>\n",
       "      <td>20</td>\n",
       "      <td>8</td>\n",
       "      <td>9</td>\n",
       "      <td>6</td>\n",
       "      <td>5</td>\n",
       "      <td>0</td>\n",
       "      <td>20</td>\n",
       "      <td>20</td>\n",
       "      <td>80.77</td>\n",
       "      <td>88.84</td>\n",
       "      <td>0.0</td>\n",
       "      <td>no</td>\n",
       "    </tr>\n",
       "    <tr>\n",
       "      <th>2</th>\n",
       "      <td>TACcatacaataactttAAC</td>\n",
       "      <td>Control</td>\n",
       "      <td>2</td>\n",
       "      <td>3</td>\n",
       "      <td>0</td>\n",
       "      <td>2</td>\n",
       "      <td>None</td>\n",
       "      <td>20</td>\n",
       "      <td>6</td>\n",
       "      <td>9</td>\n",
       "      <td>5</td>\n",
       "      <td>6</td>\n",
       "      <td>0</td>\n",
       "      <td>20</td>\n",
       "      <td>20</td>\n",
       "      <td>81.15</td>\n",
       "      <td>76.53</td>\n",
       "      <td>0.0</td>\n",
       "      <td>no</td>\n",
       "    </tr>\n",
       "    <tr>\n",
       "      <th>3</th>\n",
       "      <td>CTAAatccttaatatcAAAC</td>\n",
       "      <td>Control</td>\n",
       "      <td>3</td>\n",
       "      <td>2</td>\n",
       "      <td>0</td>\n",
       "      <td>2</td>\n",
       "      <td>None</td>\n",
       "      <td>20</td>\n",
       "      <td>8</td>\n",
       "      <td>9</td>\n",
       "      <td>5</td>\n",
       "      <td>6</td>\n",
       "      <td>0</td>\n",
       "      <td>20</td>\n",
       "      <td>20</td>\n",
       "      <td>81.15</td>\n",
       "      <td>79.26</td>\n",
       "      <td>0.0</td>\n",
       "      <td>no</td>\n",
       "    </tr>\n",
       "    <tr>\n",
       "      <th>4</th>\n",
       "      <td>CcAAAtcttataataACtAC</td>\n",
       "      <td>Control</td>\n",
       "      <td>3</td>\n",
       "      <td>2</td>\n",
       "      <td>0</td>\n",
       "      <td>2</td>\n",
       "      <td>None</td>\n",
       "      <td>20</td>\n",
       "      <td>8</td>\n",
       "      <td>9</td>\n",
       "      <td>5</td>\n",
       "      <td>6</td>\n",
       "      <td>0</td>\n",
       "      <td>20</td>\n",
       "      <td>20</td>\n",
       "      <td>81.15</td>\n",
       "      <td>80.17</td>\n",
       "      <td>0.0</td>\n",
       "      <td>no</td>\n",
       "    </tr>\n",
       "  </tbody>\n",
       "</table>\n",
       "</div>"
      ],
      "text/plain": [
       "               Sequence      Set  MaxLength_A  MaxLength_T  MaxLength_G  \\\n",
       "0  AAAtctataataaccacCAC  Control            3            1            0   \n",
       "1  CAAAtcatccatctatAAAC  Control            3            1            0   \n",
       "2  TACcatacaataactttAAC  Control            2            3            0   \n",
       "3  CTAAatccttaatatcAAAC  Control            3            2            0   \n",
       "4  CcAAAtcttataataACtAC  Control            3            2            0   \n",
       "\n",
       "   MaxLength_C Target  Length  Number_LNA  Number_A  Number_C  Number_T  \\\n",
       "0            2   None      20           6        10         6         4   \n",
       "1            2   None      20           8         9         6         5   \n",
       "2            2   None      20           6         9         5         6   \n",
       "3            2   None      20           8         9         5         6   \n",
       "4            2   None      20           8         9         5         6   \n",
       "\n",
       "   Number_G  Length_Gfree_5  Length_Gfree_3  Calculated_score  \\\n",
       "0         0              20              20             82.36   \n",
       "1         0              20              20             80.77   \n",
       "2         0              20              20             81.15   \n",
       "3         0              20              20             81.15   \n",
       "4         0              20              20             81.15   \n",
       "\n",
       "   Measured_CaO_score_cells  Acute_tolerance_score_mice tox_label  \n",
       "0                     80.17                         0.0        no  \n",
       "1                     88.84                         0.0        no  \n",
       "2                     76.53                         0.0        no  \n",
       "3                     79.26                         0.0        no  \n",
       "4                     80.17                         0.0        no  "
      ]
     },
     "execution_count": 5,
     "metadata": {},
     "output_type": "execute_result"
    }
   ],
   "source": [
    "df.head()"
   ]
  },
  {
   "cell_type": "markdown",
   "id": "4d8a4722-3ed4-4ea9-8c97-8b9da5eb0bb1",
   "metadata": {},
   "source": [
    "### Section 1: Using the same five features as published by Roche to predict ASO toxicity"
   ]
  },
  {
   "cell_type": "code",
   "execution_count": 19,
   "id": "00459bfe-9b19-4d0f-bffe-240c4603619e",
   "metadata": {},
   "outputs": [],
   "source": [
    "# define the base model for ASO toxicity prediction based on Roche published results\n",
    "def baseModel(x):\n",
    "    return 136.0430-3.1263*x['Number_A']-5.1100*x['Number_C']-4.7217*x['Number_T']-10.1264*x['Number_G']+1.3577*x['Length_Gfree_3']"
   ]
  },
  {
   "cell_type": "code",
   "execution_count": 45,
   "id": "d7656043",
   "metadata": {},
   "outputs": [],
   "source": [
    "# calcium score is the target, which can reflect ASO toxicity; Smaller calcium score indicates one ASO is more toxic\n",
    "y=df['Measured_CaO_score_cells']\n",
    "X=df[['Number_A','Number_C','Number_T','Number_G','Length_Gfree_3']]"
   ]
  },
  {
   "cell_type": "markdown",
   "id": "fbe70f3a-3a5e-4c66-9737-e87ce201655f",
   "metadata": {},
   "source": [
    "**Import training set and test set:** In the original paper, the author already divided the data into training set and test set and we don't have to split the data by ourselves. Training set and test set can be directly imported for analysis."
   ]
  },
  {
   "cell_type": "code",
   "execution_count": 46,
   "id": "79d24cdd",
   "metadata": {},
   "outputs": [],
   "source": [
    "X_train=X.loc[df['Set']=='Training'];\n",
    "y_train=y.loc[df['Set']=='Training'];\n",
    "X_test=X.loc[df['Set']!='Training'];\n",
    "y_test=y.loc[df['Set']!='Training'];"
   ]
  },
  {
   "cell_type": "markdown",
   "id": "3ca2d808-ce91-4715-be03-e2e169a2757f",
   "metadata": {},
   "source": [
    "**Build a basic linear regression model without regularization** "
   ]
  },
  {
   "cell_type": "code",
   "execution_count": 47,
   "id": "41daf67b",
   "metadata": {},
   "outputs": [
    {
     "name": "stdout",
     "output_type": "stream",
     "text": [
      "[ -3.12631878  -5.1099949   -4.72166014 -10.12635343   1.35769713]\n",
      "136.04297448149526\n"
     ]
    }
   ],
   "source": [
    "LR= LinearRegression().fit(X_train,y_train)\n",
    "print(LR.coef_)\n",
    "print(LR.intercept_)"
   ]
  },
  {
   "cell_type": "code",
   "execution_count": 48,
   "id": "25cec075",
   "metadata": {},
   "outputs": [
    {
     "name": "stdout",
     "output_type": "stream",
     "text": [
      "830.8701791969249\n",
      "2716.378969878299\n"
     ]
    }
   ],
   "source": [
    "print(mean_squared_error(LR.predict(X_train),y_train))\n",
    "print(mean_squared_error(LR.predict(X_test),y_test))"
   ]
  },
  {
   "cell_type": "markdown",
   "id": "ea423040-9270-4909-bf2c-3985bc999c36",
   "metadata": {},
   "source": [
    "**Build a Ridge regression model with L2 regularization and use GridSearchCV to tune the hyperparameter alpha** "
   ]
  },
  {
   "cell_type": "code",
   "execution_count": 49,
   "id": "8435db71",
   "metadata": {},
   "outputs": [
    {
     "name": "stdout",
     "output_type": "stream",
     "text": [
      "Train MSE: 830.8702490797909\n",
      "Test MSE: 2716.416554903375\n",
      "best alpha:{'ridge__alpha': 1.0}\n"
     ]
    },
    {
     "data": {
      "text/html": [
       "<style>#sk-container-id-3 {color: black;}#sk-container-id-3 pre{padding: 0;}#sk-container-id-3 div.sk-toggleable {background-color: white;}#sk-container-id-3 label.sk-toggleable__label {cursor: pointer;display: block;width: 100%;margin-bottom: 0;padding: 0.3em;box-sizing: border-box;text-align: center;}#sk-container-id-3 label.sk-toggleable__label-arrow:before {content: \"▸\";float: left;margin-right: 0.25em;color: #696969;}#sk-container-id-3 label.sk-toggleable__label-arrow:hover:before {color: black;}#sk-container-id-3 div.sk-estimator:hover label.sk-toggleable__label-arrow:before {color: black;}#sk-container-id-3 div.sk-toggleable__content {max-height: 0;max-width: 0;overflow: hidden;text-align: left;background-color: #f0f8ff;}#sk-container-id-3 div.sk-toggleable__content pre {margin: 0.2em;color: black;border-radius: 0.25em;background-color: #f0f8ff;}#sk-container-id-3 input.sk-toggleable__control:checked~div.sk-toggleable__content {max-height: 200px;max-width: 100%;overflow: auto;}#sk-container-id-3 input.sk-toggleable__control:checked~label.sk-toggleable__label-arrow:before {content: \"▾\";}#sk-container-id-3 div.sk-estimator input.sk-toggleable__control:checked~label.sk-toggleable__label {background-color: #d4ebff;}#sk-container-id-3 div.sk-label input.sk-toggleable__control:checked~label.sk-toggleable__label {background-color: #d4ebff;}#sk-container-id-3 input.sk-hidden--visually {border: 0;clip: rect(1px 1px 1px 1px);clip: rect(1px, 1px, 1px, 1px);height: 1px;margin: -1px;overflow: hidden;padding: 0;position: absolute;width: 1px;}#sk-container-id-3 div.sk-estimator {font-family: monospace;background-color: #f0f8ff;border: 1px dotted black;border-radius: 0.25em;box-sizing: border-box;margin-bottom: 0.5em;}#sk-container-id-3 div.sk-estimator:hover {background-color: #d4ebff;}#sk-container-id-3 div.sk-parallel-item::after {content: \"\";width: 100%;border-bottom: 1px solid gray;flex-grow: 1;}#sk-container-id-3 div.sk-label:hover label.sk-toggleable__label {background-color: #d4ebff;}#sk-container-id-3 div.sk-serial::before {content: \"\";position: absolute;border-left: 1px solid gray;box-sizing: border-box;top: 0;bottom: 0;left: 50%;z-index: 0;}#sk-container-id-3 div.sk-serial {display: flex;flex-direction: column;align-items: center;background-color: white;padding-right: 0.2em;padding-left: 0.2em;position: relative;}#sk-container-id-3 div.sk-item {position: relative;z-index: 1;}#sk-container-id-3 div.sk-parallel {display: flex;align-items: stretch;justify-content: center;background-color: white;position: relative;}#sk-container-id-3 div.sk-item::before, #sk-container-id-3 div.sk-parallel-item::before {content: \"\";position: absolute;border-left: 1px solid gray;box-sizing: border-box;top: 0;bottom: 0;left: 50%;z-index: -1;}#sk-container-id-3 div.sk-parallel-item {display: flex;flex-direction: column;z-index: 1;position: relative;background-color: white;}#sk-container-id-3 div.sk-parallel-item:first-child::after {align-self: flex-end;width: 50%;}#sk-container-id-3 div.sk-parallel-item:last-child::after {align-self: flex-start;width: 50%;}#sk-container-id-3 div.sk-parallel-item:only-child::after {width: 0;}#sk-container-id-3 div.sk-dashed-wrapped {border: 1px dashed gray;margin: 0 0.4em 0.5em 0.4em;box-sizing: border-box;padding-bottom: 0.4em;background-color: white;}#sk-container-id-3 div.sk-label label {font-family: monospace;font-weight: bold;display: inline-block;line-height: 1.2em;}#sk-container-id-3 div.sk-label-container {text-align: center;}#sk-container-id-3 div.sk-container {/* jupyter's `normalize.less` sets `[hidden] { display: none; }` but bootstrap.min.css set `[hidden] { display: none !important; }` so we also need the `!important` here to be able to override the default hidden behavior on the sphinx rendered scikit-learn.org. See: https://github.com/scikit-learn/scikit-learn/issues/21755 */display: inline-block !important;position: relative;}#sk-container-id-3 div.sk-text-repr-fallback {display: none;}</style><div id=\"sk-container-id-3\" class=\"sk-top-container\"><div class=\"sk-text-repr-fallback\"><pre>Pipeline(steps=[(&#x27;ridge&#x27;, Ridge())])</pre><b>In a Jupyter environment, please rerun this cell to show the HTML representation or trust the notebook. <br />On GitHub, the HTML representation is unable to render, please try loading this page with nbviewer.org.</b></div><div class=\"sk-container\" hidden><div class=\"sk-item sk-dashed-wrapped\"><div class=\"sk-label-container\"><div class=\"sk-label sk-toggleable\"><input class=\"sk-toggleable__control sk-hidden--visually\" id=\"sk-estimator-id-5\" type=\"checkbox\" ><label for=\"sk-estimator-id-5\" class=\"sk-toggleable__label sk-toggleable__label-arrow\">Pipeline</label><div class=\"sk-toggleable__content\"><pre>Pipeline(steps=[(&#x27;ridge&#x27;, Ridge())])</pre></div></div></div><div class=\"sk-serial\"><div class=\"sk-item\"><div class=\"sk-estimator sk-toggleable\"><input class=\"sk-toggleable__control sk-hidden--visually\" id=\"sk-estimator-id-6\" type=\"checkbox\" ><label for=\"sk-estimator-id-6\" class=\"sk-toggleable__label sk-toggleable__label-arrow\">Ridge</label><div class=\"sk-toggleable__content\"><pre>Ridge()</pre></div></div></div></div></div></div></div>"
      ],
      "text/plain": [
       "Pipeline(steps=[('ridge', Ridge())])"
      ]
     },
     "execution_count": 49,
     "metadata": {},
     "output_type": "execute_result"
    }
   ],
   "source": [
    "ridge_param_dict = {'ridge__alpha': np.logspace(0, 3, 200)}\n",
    "ridge_pipe = Pipeline([('ridge', Ridge())])\n",
    "ridge_grid = GridSearchCV(ridge_pipe, param_grid=ridge_param_dict)\n",
    "ridge_grid.fit(X_train, y_train)\n",
    "ridge_train_preds = ridge_grid.predict(X_train)\n",
    "ridge_test_preds = ridge_grid.predict(X_test)\n",
    "ridge_train_mse = mean_squared_error(y_train, ridge_train_preds)\n",
    "ridge_test_mse = mean_squared_error(y_test, ridge_test_preds)\n",
    "\n",
    "print(f'Train MSE: {ridge_train_mse}')\n",
    "print(f'Test MSE: {ridge_test_mse}')\n",
    "print (f'best alpha:{ridge_grid.best_params_}')\n",
    "ridge_pipe"
   ]
  },
  {
   "cell_type": "code",
   "execution_count": 51,
   "id": "2a9033e3-939b-4b37-982b-dbf19340cb2c",
   "metadata": {},
   "outputs": [
    {
     "name": "stdout",
     "output_type": "stream",
     "text": [
      "Index(['Number_A', 'Number_C', 'Number_T', 'Number_G', 'Length_Gfree_3'], dtype='object')\n",
      "[ -3.12265566  -5.1050084   -4.71768081 -10.12049777   1.35767714]\n",
      "135.9645333196116\n"
     ]
    }
   ],
   "source": [
    "best_estimator_ridge = ridge_grid.best_estimator_\n",
    "best_model_ridge = ridge_grid.best_estimator_.named_steps['ridge']\n",
    "feature_names = X_train.columns\n",
    "coefs_ridge = best_model_ridge.coef_\n",
    "print(feature_names)\n",
    "print(coefs_ridge)\n",
    "print(best_model_ridge.intercept_)"
   ]
  },
  {
   "cell_type": "markdown",
   "id": "8b34f787-6a5b-418a-8a1c-4bf8ed3a21ea",
   "metadata": {},
   "source": [
    "**Build a Lasso regression model with L1 regularization and use GridSearchCV to tune the hyperparameter alpha**"
   ]
  },
  {
   "cell_type": "code",
   "execution_count": 52,
   "id": "4b68357e",
   "metadata": {},
   "outputs": [
    {
     "name": "stdout",
     "output_type": "stream",
     "text": [
      "Train MSE: 830.8750786403004\n",
      "Test MSE: 2716.693941924275\n",
      "best alpha:{'lasso__alpha': 0.03162277660168379}\n"
     ]
    },
    {
     "data": {
      "text/html": [
       "<style>#sk-container-id-4 {color: black;}#sk-container-id-4 pre{padding: 0;}#sk-container-id-4 div.sk-toggleable {background-color: white;}#sk-container-id-4 label.sk-toggleable__label {cursor: pointer;display: block;width: 100%;margin-bottom: 0;padding: 0.3em;box-sizing: border-box;text-align: center;}#sk-container-id-4 label.sk-toggleable__label-arrow:before {content: \"▸\";float: left;margin-right: 0.25em;color: #696969;}#sk-container-id-4 label.sk-toggleable__label-arrow:hover:before {color: black;}#sk-container-id-4 div.sk-estimator:hover label.sk-toggleable__label-arrow:before {color: black;}#sk-container-id-4 div.sk-toggleable__content {max-height: 0;max-width: 0;overflow: hidden;text-align: left;background-color: #f0f8ff;}#sk-container-id-4 div.sk-toggleable__content pre {margin: 0.2em;color: black;border-radius: 0.25em;background-color: #f0f8ff;}#sk-container-id-4 input.sk-toggleable__control:checked~div.sk-toggleable__content {max-height: 200px;max-width: 100%;overflow: auto;}#sk-container-id-4 input.sk-toggleable__control:checked~label.sk-toggleable__label-arrow:before {content: \"▾\";}#sk-container-id-4 div.sk-estimator input.sk-toggleable__control:checked~label.sk-toggleable__label {background-color: #d4ebff;}#sk-container-id-4 div.sk-label input.sk-toggleable__control:checked~label.sk-toggleable__label {background-color: #d4ebff;}#sk-container-id-4 input.sk-hidden--visually {border: 0;clip: rect(1px 1px 1px 1px);clip: rect(1px, 1px, 1px, 1px);height: 1px;margin: -1px;overflow: hidden;padding: 0;position: absolute;width: 1px;}#sk-container-id-4 div.sk-estimator {font-family: monospace;background-color: #f0f8ff;border: 1px dotted black;border-radius: 0.25em;box-sizing: border-box;margin-bottom: 0.5em;}#sk-container-id-4 div.sk-estimator:hover {background-color: #d4ebff;}#sk-container-id-4 div.sk-parallel-item::after {content: \"\";width: 100%;border-bottom: 1px solid gray;flex-grow: 1;}#sk-container-id-4 div.sk-label:hover label.sk-toggleable__label {background-color: #d4ebff;}#sk-container-id-4 div.sk-serial::before {content: \"\";position: absolute;border-left: 1px solid gray;box-sizing: border-box;top: 0;bottom: 0;left: 50%;z-index: 0;}#sk-container-id-4 div.sk-serial {display: flex;flex-direction: column;align-items: center;background-color: white;padding-right: 0.2em;padding-left: 0.2em;position: relative;}#sk-container-id-4 div.sk-item {position: relative;z-index: 1;}#sk-container-id-4 div.sk-parallel {display: flex;align-items: stretch;justify-content: center;background-color: white;position: relative;}#sk-container-id-4 div.sk-item::before, #sk-container-id-4 div.sk-parallel-item::before {content: \"\";position: absolute;border-left: 1px solid gray;box-sizing: border-box;top: 0;bottom: 0;left: 50%;z-index: -1;}#sk-container-id-4 div.sk-parallel-item {display: flex;flex-direction: column;z-index: 1;position: relative;background-color: white;}#sk-container-id-4 div.sk-parallel-item:first-child::after {align-self: flex-end;width: 50%;}#sk-container-id-4 div.sk-parallel-item:last-child::after {align-self: flex-start;width: 50%;}#sk-container-id-4 div.sk-parallel-item:only-child::after {width: 0;}#sk-container-id-4 div.sk-dashed-wrapped {border: 1px dashed gray;margin: 0 0.4em 0.5em 0.4em;box-sizing: border-box;padding-bottom: 0.4em;background-color: white;}#sk-container-id-4 div.sk-label label {font-family: monospace;font-weight: bold;display: inline-block;line-height: 1.2em;}#sk-container-id-4 div.sk-label-container {text-align: center;}#sk-container-id-4 div.sk-container {/* jupyter's `normalize.less` sets `[hidden] { display: none; }` but bootstrap.min.css set `[hidden] { display: none !important; }` so we also need the `!important` here to be able to override the default hidden behavior on the sphinx rendered scikit-learn.org. See: https://github.com/scikit-learn/scikit-learn/issues/21755 */display: inline-block !important;position: relative;}#sk-container-id-4 div.sk-text-repr-fallback {display: none;}</style><div id=\"sk-container-id-4\" class=\"sk-top-container\"><div class=\"sk-text-repr-fallback\"><pre>Pipeline(steps=[(&#x27;lasso&#x27;, Lasso())])</pre><b>In a Jupyter environment, please rerun this cell to show the HTML representation or trust the notebook. <br />On GitHub, the HTML representation is unable to render, please try loading this page with nbviewer.org.</b></div><div class=\"sk-container\" hidden><div class=\"sk-item sk-dashed-wrapped\"><div class=\"sk-label-container\"><div class=\"sk-label sk-toggleable\"><input class=\"sk-toggleable__control sk-hidden--visually\" id=\"sk-estimator-id-7\" type=\"checkbox\" ><label for=\"sk-estimator-id-7\" class=\"sk-toggleable__label sk-toggleable__label-arrow\">Pipeline</label><div class=\"sk-toggleable__content\"><pre>Pipeline(steps=[(&#x27;lasso&#x27;, Lasso())])</pre></div></div></div><div class=\"sk-serial\"><div class=\"sk-item\"><div class=\"sk-estimator sk-toggleable\"><input class=\"sk-toggleable__control sk-hidden--visually\" id=\"sk-estimator-id-8\" type=\"checkbox\" ><label for=\"sk-estimator-id-8\" class=\"sk-toggleable__label sk-toggleable__label-arrow\">Lasso</label><div class=\"sk-toggleable__content\"><pre>Lasso()</pre></div></div></div></div></div></div></div>"
      ],
      "text/plain": [
       "Pipeline(steps=[('lasso', Lasso())])"
      ]
     },
     "execution_count": 52,
     "metadata": {},
     "output_type": "execute_result"
    }
   ],
   "source": [
    "lasso_param_dict = {'lasso__alpha': np.logspace(-1.5, 2, 200)}\n",
    "lasso_pipe = Pipeline([('lasso', Lasso())])\n",
    "lasso_grid = GridSearchCV(lasso_pipe, param_grid=lasso_param_dict)\n",
    "lasso_grid.fit(X_train, y_train)\n",
    "lasso_train_preds = lasso_grid.predict(X_train)\n",
    "lasso_test_preds = lasso_grid.predict(X_test)\n",
    "lasso_train_mse = mean_squared_error(y_train, lasso_train_preds)\n",
    "lasso_test_mse = mean_squared_error(y_test, lasso_test_preds)\n",
    "### END SOLUTION\n",
    "\n",
    "# ANSWER CHECK\n",
    "print(f'Train MSE: {lasso_train_mse}')\n",
    "print(f'Test MSE: {lasso_test_mse}')\n",
    "print (f'best alpha:{lasso_grid.best_params_}')\n",
    "lasso_pipe"
   ]
  },
  {
   "cell_type": "code",
   "execution_count": 16,
   "id": "f2478c1d",
   "metadata": {},
   "outputs": [
    {
     "name": "stdout",
     "output_type": "stream",
     "text": [
      "Index(['Number_A', 'Number_C', 'Number_T', 'Number_G', 'Length_Gfree_3'], dtype='object')\n",
      "[ -3.08948712  -5.06692582  -4.68464915 -10.08592295   1.35397987]\n",
      "135.37891250918256\n"
     ]
    }
   ],
   "source": [
    "best_estimator_lasso = lasso_grid.best_estimator_\n",
    "best_model_lasso = lasso_grid.best_estimator_.named_steps['lasso']\n",
    "feature_names = X_train.columns\n",
    "coefs_lasso = best_model_lasso.coef_\n",
    "print(feature_names)\n",
    "print(coefs_lasso)\n",
    "print(best_model_lasso.intercept_)"
   ]
  },
  {
   "cell_type": "code",
   "execution_count": 53,
   "id": "0b46c2cf-750a-4c9d-a46b-ca4f75afa166",
   "metadata": {},
   "outputs": [
    {
     "data": {
      "text/html": [
       "<div>\n",
       "<style scoped>\n",
       "    .dataframe tbody tr th:only-of-type {\n",
       "        vertical-align: middle;\n",
       "    }\n",
       "\n",
       "    .dataframe tbody tr th {\n",
       "        vertical-align: top;\n",
       "    }\n",
       "\n",
       "    .dataframe thead th {\n",
       "        text-align: right;\n",
       "    }\n",
       "</style>\n",
       "<table border=\"1\" class=\"dataframe\">\n",
       "  <thead>\n",
       "    <tr style=\"text-align: right;\">\n",
       "      <th></th>\n",
       "      <th>Number_A</th>\n",
       "      <th>Number_C</th>\n",
       "      <th>Number_T</th>\n",
       "      <th>Number_G</th>\n",
       "      <th>Length_Gfree_3</th>\n",
       "      <th>Intercept</th>\n",
       "    </tr>\n",
       "    <tr>\n",
       "      <th>Model</th>\n",
       "      <th></th>\n",
       "      <th></th>\n",
       "      <th></th>\n",
       "      <th></th>\n",
       "      <th></th>\n",
       "      <th></th>\n",
       "    </tr>\n",
       "  </thead>\n",
       "  <tbody>\n",
       "    <tr>\n",
       "      <th>Roche</th>\n",
       "      <td>-3.1263</td>\n",
       "      <td>-5.1100</td>\n",
       "      <td>-4.7217</td>\n",
       "      <td>-10.1264</td>\n",
       "      <td>1.3577</td>\n",
       "      <td>136.0430</td>\n",
       "    </tr>\n",
       "    <tr>\n",
       "      <th>Linear Regression</th>\n",
       "      <td>-3.1263</td>\n",
       "      <td>-5.1100</td>\n",
       "      <td>-4.7217</td>\n",
       "      <td>-10.1264</td>\n",
       "      <td>1.3577</td>\n",
       "      <td>136.0430</td>\n",
       "    </tr>\n",
       "    <tr>\n",
       "      <th>Ridge</th>\n",
       "      <td>-3.1227</td>\n",
       "      <td>-5.1050</td>\n",
       "      <td>-4.7177</td>\n",
       "      <td>-10.1205</td>\n",
       "      <td>1.3577</td>\n",
       "      <td>135.9645</td>\n",
       "    </tr>\n",
       "    <tr>\n",
       "      <th>Lasso</th>\n",
       "      <td>-3.0895</td>\n",
       "      <td>-5.0669</td>\n",
       "      <td>-4.6846</td>\n",
       "      <td>-10.0859</td>\n",
       "      <td>1.3540</td>\n",
       "      <td>135.3789</td>\n",
       "    </tr>\n",
       "  </tbody>\n",
       "</table>\n",
       "</div>"
      ],
      "text/plain": [
       "                   Number_A  Number_C  Number_T  Number_G  Length_Gfree_3  \\\n",
       "Model                                                                       \n",
       "Roche               -3.1263   -5.1100   -4.7217  -10.1264          1.3577   \n",
       "Linear Regression   -3.1263   -5.1100   -4.7217  -10.1264          1.3577   \n",
       "Ridge               -3.1227   -5.1050   -4.7177  -10.1205          1.3577   \n",
       "Lasso               -3.0895   -5.0669   -4.6846  -10.0859          1.3540   \n",
       "\n",
       "                   Intercept  \n",
       "Model                         \n",
       "Roche               136.0430  \n",
       "Linear Regression   136.0430  \n",
       "Ridge               135.9645  \n",
       "Lasso               135.3789  "
      ]
     },
     "execution_count": 53,
     "metadata": {},
     "output_type": "execute_result"
    }
   ],
   "source": [
    "# summarize the results of coefficients of all features from different models\n",
    "res_dict = {'Model': ['Roche', 'Linear Regression','Ridge','Lasso'],\n",
    "            'Number_A': [-3.1263, -3.1263, -3.1227, -3.0895],\n",
    "            'Number_C': [-5.1100, -5.1100, -5.1050,-5.0669],\n",
    "            'Number_T': [-4.7217, -4.7217, -4.7177,-4.6846],\n",
    "            'Number_G': [-10.1264, -10.1264, -10.1205,-10.0859],\n",
    "            'Length_Gfree_3': [1.3577, 1.3577, 1.3577,1.3540],\n",
    "            'Intercept': [136.0430, 136.0430, 135.9645,135.3789],\n",
    "           }\n",
    "results_df = pd.DataFrame(res_dict).set_index('Model')\n",
    "results_df"
   ]
  },
  {
   "cell_type": "code",
   "execution_count": 54,
   "id": "49a39fa0-cc60-4f09-8b55-cc08a68226cc",
   "metadata": {},
   "outputs": [
    {
     "data": {
      "text/html": [
       "<div>\n",
       "<style scoped>\n",
       "    .dataframe tbody tr th:only-of-type {\n",
       "        vertical-align: middle;\n",
       "    }\n",
       "\n",
       "    .dataframe tbody tr th {\n",
       "        vertical-align: top;\n",
       "    }\n",
       "\n",
       "    .dataframe thead th {\n",
       "        text-align: right;\n",
       "    }\n",
       "</style>\n",
       "<table border=\"1\" class=\"dataframe\">\n",
       "  <thead>\n",
       "    <tr style=\"text-align: right;\">\n",
       "      <th></th>\n",
       "      <th>Training_MSE</th>\n",
       "      <th>Test_MSE</th>\n",
       "    </tr>\n",
       "    <tr>\n",
       "      <th>Model</th>\n",
       "      <th></th>\n",
       "      <th></th>\n",
       "    </tr>\n",
       "  </thead>\n",
       "  <tbody>\n",
       "    <tr>\n",
       "      <th>Roche</th>\n",
       "      <td>830.87</td>\n",
       "      <td>2716.38</td>\n",
       "    </tr>\n",
       "    <tr>\n",
       "      <th>Linear Regression</th>\n",
       "      <td>830.87</td>\n",
       "      <td>2716.38</td>\n",
       "    </tr>\n",
       "    <tr>\n",
       "      <th>Lasso</th>\n",
       "      <td>830.87</td>\n",
       "      <td>2716.42</td>\n",
       "    </tr>\n",
       "    <tr>\n",
       "      <th>Ridge</th>\n",
       "      <td>830.88</td>\n",
       "      <td>2716.69</td>\n",
       "    </tr>\n",
       "  </tbody>\n",
       "</table>\n",
       "</div>"
      ],
      "text/plain": [
       "                   Training_MSE  Test_MSE\n",
       "Model                                    \n",
       "Roche                    830.87   2716.38\n",
       "Linear Regression        830.87   2716.38\n",
       "Lasso                    830.87   2716.42\n",
       "Ridge                    830.88   2716.69"
      ]
     },
     "execution_count": 54,
     "metadata": {},
     "output_type": "execute_result"
    }
   ],
   "source": [
    "# summarize the training_MSE and test_MSE from different models\n",
    "res_dict1 = {'Model': ['Roche', 'Linear Regression','Lasso','Ridge'],\n",
    "            'Training_MSE': [830.87, 830.87,830.87,830.88],\n",
    "            'Test_MSE': [2716.38, 2716.38, 2716.42,2716.69],\n",
    "           }\n",
    "results_df1 = pd.DataFrame(res_dict1).set_index('Model')\n",
    "results_df1"
   ]
  },
  {
   "cell_type": "markdown",
   "id": "028b5d8a-db7f-462b-b526-c7205af13ed1",
   "metadata": {},
   "source": [
    "### Section 1 conclusions\n",
    "1. Linear Regression model gave rise to identical results as the published Roche model for all the coefficients, traing_MSE, test_MSE, which can validate the procedure of my modeling process.\n",
    "2. Using Ridge or Lasso Regression did not significantly change the coefficients, traing_MSE, test_MSE, compared to the model without regularization.\n",
    "3. It seems like the test_MSE is signifcantly larger than training_MSE, that could be due to the fact that the training set data was not collected use the identical manner as the testing set and there might be some systematic shift between tranining set values and test set values. Therefore, in Section 2, I will use some tools I learned for classification (e.g. confusion matrix, ROC curve) to further evaluate the model.\n",
    "4. **All the models suggest that the ASOs with more guanine (G) in its sequence tend be more toxic, because the feature Number_G has most negative coefficient, which is consistent with Roche published results.**"
   ]
  },
  {
   "cell_type": "markdown",
   "id": "36fd0244-1314-4a58-bd72-1339ee9752a4",
   "metadata": {},
   "source": [
    "### Section 2: Using the classification tools to evaluate different regression models"
   ]
  },
  {
   "cell_type": "code",
   "execution_count": 55,
   "id": "8d4499fd",
   "metadata": {},
   "outputs": [],
   "source": [
    "df_test=df.loc[df['Set']!='Training']\n",
    "df_test1=df_test.copy()\n",
    "df_test1['lasso_predict_toxscore']=lasso_test_preds; \n",
    "df_test1['ridge_predict_toxscore']=ridge_test_preds;\n",
    "df_test1['Base_predict_toxscore']=df_test['Calculated_score']"
   ]
  },
  {
   "cell_type": "code",
   "execution_count": 56,
   "id": "f4d94301-aaad-4b8b-8839-ff0881821335",
   "metadata": {},
   "outputs": [
    {
     "data": {
      "text/plain": [
       "Text(0.5, 1.0, 'Toxcic ASO Counts in Test Set')"
      ]
     },
     "execution_count": 56,
     "metadata": {},
     "output_type": "execute_result"
    },
    {
     "data": {
      "image/png": "[encoded data removed]",
      "text/plain": [
       "<Figure size 640x480 with 1 Axes>"
      ]
     },
     "metadata": {},
     "output_type": "display_data"
    }
   ],
   "source": [
    "# check the distribution of toxic and non-toxic ASOs in test set\n",
    "df_test['tox_label'].value_counts().plot(kind='bar')\n",
    "plt.xlabel('ASO Classes')\n",
    "plt.ylabel('y label')\n",
    "plt.title('Toxcic ASO Counts in Test Set')"
   ]
  },
  {
   "cell_type": "markdown",
   "id": "3d7370f4-95b6-4414-9749-d5f92531ed51",
   "metadata": {},
   "source": [
    "**calculate the sensitivity, specificity and accuracy of differnet models based on differnt threshold**"
   ]
  },
  {
   "cell_type": "code",
   "execution_count": 57,
   "id": "e0f02b73",
   "metadata": {},
   "outputs": [],
   "source": [
    "base_recall=[]; lasso_recall=[];ridge_recall=[];\n",
    "base_specificity=[]; lasso_specificity=[]; ridge_specificity=[];\n",
    "base_accuracy=[]; lasso_accuracy=[]; ridge_accuracy=[];\n",
    "\n",
    "# create a for loop to store the sensitivity, specificity and accurary values based on different threshold values (i)\n",
    "for i in np.arange(-10,120,0.5):\n",
    "    df_test1.loc[df_test1['lasso_predict_toxscore']>i,['lasso_predict_toxLabel']]='no'\n",
    "    df_test1.loc[df_test1['lasso_predict_toxscore']<=i,['lasso_predict_toxLabel']]='yes'\n",
    "    df_test1.loc[df_test1['Base_predict_toxscore']>i,['Base_predict_toxLabel']]='no'\n",
    "    df_test1.loc[df_test1['Base_predict_toxscore']<=i,['Base_predict_toxLabel']]='yes'\n",
    "    df_test1.loc[df_test1['ridge_predict_toxscore']>i,['ridge_predict_toxLabel']]='no'\n",
    "    df_test1.loc[df_test1['ridge_predict_toxscore']<=i,['ridge_predict_toxLabel']]='yes'\n",
    "\n",
    "    base_recall.append(recall_score(df_test1['tox_label'],df_test1['Base_predict_toxLabel'],pos_label='yes'))\n",
    "    lasso_recall.append(recall_score(df_test1['tox_label'],df_test1['lasso_predict_toxLabel'],pos_label='yes'))\n",
    "    ridge_recall.append(recall_score(df_test1['tox_label'],df_test1['ridge_predict_toxLabel'],pos_label='yes'))\n",
    "    \n",
    "    base_accuracy.append(accuracy_score(df_test1['tox_label'],df_test1['Base_predict_toxLabel']))\n",
    "    lasso_accuracy.append(accuracy_score(df_test1['tox_label'],df_test1['lasso_predict_toxLabel']))\n",
    "    ridge_accuracy.append(accuracy_score(df_test1['tox_label'],df_test1['lasso_predict_toxLabel']))\n",
    "    \n",
    "    base_specificity.append(recall_score(df_test1['tox_label'],df_test1['Base_predict_toxLabel'],pos_label='no'))\n",
    "    lasso_specificity.append(recall_score(df_test1['tox_label'],df_test1['lasso_predict_toxLabel'],pos_label='no'))\n",
    "    ridge_specificity.append(recall_score(df_test1['tox_label'],df_test1['ridge_predict_toxLabel'],pos_label='no'))\n",
    "    "
   ]
  },
  {
   "cell_type": "code",
   "execution_count": 23,
   "id": "8ed8d128-1914-4d92-a023-d6d7789dd911",
   "metadata": {},
   "outputs": [],
   "source": [
    "# find the optimal threshold for differnet models when maximum accuracy is achieved\n",
    "Threshold_range=np.arange(-10,120,0.5)\n",
    "base_threshold=Threshold_range[base_accuracy.index(max(base_accuracy))]\n",
    "lasso_threshold=Threshold_range[lasso_accuracy.index(max(lasso_accuracy))]\n",
    "ridge_threshold=Threshold_range[ridge_accuracy.index(max(ridge_accuracy))]"
   ]
  },
  {
   "cell_type": "code",
   "execution_count": 75,
   "id": "3065f28b-d3b6-498a-bf96-096a7d20eaf4",
   "metadata": {},
   "outputs": [
    {
     "data": {
      "text/plain": [
       "Text(0.5, 1.0, 'Confusion Matrix for Roche Model')"
      ]
     },
     "execution_count": 75,
     "metadata": {},
     "output_type": "execute_result"
    },
    {
     "data": {
      "image/png": "[encoded data removed]",
      "text/plain": [
       "<Figure size 640x480 with 2 Axes>"
      ]
     },
     "metadata": {},
     "output_type": "display_data"
    }
   ],
   "source": [
    "# plot the Confusion Matrix for Roche Model\n",
    "df_test1.loc[df_test1['Base_predict_toxscore']>base_threshold,['Base_predict_toxLabel']]='no'\n",
    "df_test1.loc[df_test1['Base_predict_toxscore']<=base_threshold,['Base_predict_toxLabel']]='yes'\n",
    "confusion_mat = confusion_matrix(df_test1['tox_label'],df_test1['Base_predict_toxLabel'],  labels=['yes', 'no'])\n",
    "disp = ConfusionMatrixDisplay(confusion_matrix=confusion_mat, display_labels=['yes', 'no' ])\n",
    "disp.plot()\n",
    "plt.title ('Confusion Matrix for Roche Model')"
   ]
  },
  {
   "cell_type": "code",
   "execution_count": 76,
   "id": "7c78de2b-9caf-4531-aed0-121dab82645d",
   "metadata": {},
   "outputs": [
    {
     "data": {
      "text/plain": [
       "Text(0.5, 1.0, 'Confusion Matrix for Lasso Regression Model')"
      ]
     },
     "execution_count": 76,
     "metadata": {},
     "output_type": "execute_result"
    },
    {
     "data": {
      "image/png": "[encoded data removed]",
      "text/plain": [
       "<Figure size 640x480 with 2 Axes>"
      ]
     },
     "metadata": {},
     "output_type": "display_data"
    }
   ],
   "source": [
    "# plot the Confusion Matrix for Lasso Regression Model\n",
    "df_test1.loc[df_test1['lasso_predict_toxscore']>lasso_threshold,['lasso_predict_toxLabel']]='no'\n",
    "df_test1.loc[df_test1['lasso_predict_toxscore']<=lasso_threshold,['lasso_predict_toxLabel']]='yes'\n",
    "confusion_mat = confusion_matrix(df_test1['tox_label'],df_test1['lasso_predict_toxLabel'],  labels=['yes', 'no'])\n",
    "disp = ConfusionMatrixDisplay(confusion_matrix=confusion_mat, display_labels=['yes', 'no' ])\n",
    "disp.plot()\n",
    "plt.title ('Confusion Matrix for Lasso Regression Model')"
   ]
  },
  {
   "cell_type": "code",
   "execution_count": 77,
   "id": "8e42f285-317f-4110-bf64-218912acb7a3",
   "metadata": {},
   "outputs": [
    {
     "data": {
      "text/plain": [
       "Text(0.5, 1.0, 'Confusion Matrix for Ridge Regression Model')"
      ]
     },
     "execution_count": 77,
     "metadata": {},
     "output_type": "execute_result"
    },
    {
     "data": {
      "image/png": "[encoded data removed]",
      "text/plain": [
       "<Figure size 640x480 with 2 Axes>"
      ]
     },
     "metadata": {},
     "output_type": "display_data"
    }
   ],
   "source": [
    "# plot the Confusion Matrix for Ridge Regression Model\n",
    "df_test1.loc[df_test1['ridge_predict_toxscore']>ridge_threshold,['ridge_predict_toxLabel']]='no'\n",
    "df_test1.loc[df_test1['ridge_predict_toxscore']<=ridge_threshold,['ridge_predict_toxLabel']]='yes'\n",
    "confusion_mat = confusion_matrix(df_test1['tox_label'],df_test1['ridge_predict_toxLabel'],  labels=['yes', 'no'])\n",
    "disp = ConfusionMatrixDisplay(confusion_matrix=confusion_mat, display_labels=['yes', 'no' ])\n",
    "disp.plot()\n",
    "plt.title ('Confusion Matrix for Ridge Regression Model')"
   ]
  },
  {
   "cell_type": "code",
   "execution_count": 111,
   "id": "42d8fac8",
   "metadata": {},
   "outputs": [
    {
     "name": "stdout",
     "output_type": "stream",
     "text": [
      "0.8212807881773401\n",
      "0.8219704433497538\n",
      "0.8215763546798031\n"
     ]
    },
    {
     "data": {
      "image/png": "[encoded data removed]",
      "text/plain": [
       "<Figure size 640x480 with 3 Axes>"
      ]
     },
     "metadata": {},
     "output_type": "display_data"
    }
   ],
   "source": [
    "# use subplot to compare ROC curves in the same figure\n",
    "a1 = [1-x for x in base_specificity]\n",
    "a2=[1-x for x in lasso_specificity]\n",
    "a3=[1-x for x in ridge_specificity]\n",
    "\n",
    "fig, ax = plt.subplots(nrows=3, ncols=1)\n",
    "fig.tight_layout()\n",
    "ax[0].plot(a1, base_recall, c='red')\n",
    "ax[1].plot(a2, lasso_recall, c='green')\n",
    "ax[2].plot(a3, ridge_recall, c='blue')\n",
    "\n",
    "ax[0].set(ylabel='Sensitivity')\n",
    "ax[1].set(ylabel='Sensitivity')\n",
    "ax[2].set(xlabel='1-Specificity',ylabel='Sensitivity')\n",
    "ax[0].set_title('Roche Model (AUC=0.8213)',fontsize=8)\n",
    "ax[1].set_title('Lasso (AUC=0.8220)',fontsize=8)\n",
    "ax[2].set_title('Ridge (AUC=0.8216)',fontsize=8)\n",
    "\n",
    "\n",
    "auc1=0 ; auc2=0; auc3=0\n",
    "for k in range(len(a1)-3):\n",
    "    auc1 += (a1[k+1] - a1[k]) * (base_recall[k+1] + base_recall[k]) / 2\n",
    "for k in range(len(a2)-3):\n",
    "    auc2 += (a2[k+1] - a2[k]) * (lasso_recall[k+1] + lasso_recall[k]) / 2\n",
    "for k in range(len(a2)-3):\n",
    "    auc3 += (a3[k+1] - a3[k]) * (ridge_recall[k+1] + ridge_recall[k]) / 2\n",
    "print(auc1)\n",
    "print(auc2)\n",
    "print(auc3)\n"
   ]
  },
  {
   "cell_type": "markdown",
   "id": "e4151992-5d1c-415f-b5db-8a739a621e0e",
   "metadata": {},
   "source": [
    "### Section 2 conclusions\n",
    "**1. All the 3 models (Linear Regressio, Lasso Regression and Ridge Regression)  gave rise to very similar results in Confusion Matrix and ROC curve.**\n",
    "\n",
    "**2. The AUC for all the 3 ROC curves is around 0.82, which suggests that they perform relatively well for the classification task to predict toxic vs. non-toxic ASOs**"
   ]
  },
  {
   "cell_type": "markdown",
   "id": "88219bb6-fd87-4f59-b504-d128d050858f",
   "metadata": {},
   "source": [
    "### Section 3: Adding additional features to predict ASO toxicity"
   ]
  },
  {
   "cell_type": "markdown",
   "id": "a85fabbb-a0af-4610-a501-7265d581fdbb",
   "metadata": {},
   "source": [
    "**In section 3, we will explore whether adding additional features beyond the original Roche model can further improve the performance of the model.**"
   ]
  },
  {
   "cell_type": "code",
   "execution_count": 25,
   "id": "991ab02e-52c3-4173-8e2e-442d093b4801",
   "metadata": {},
   "outputs": [],
   "source": [
    "# adding additional features to the model\n",
    "X=df[['MaxLength_A','MaxLength_T','MaxLength_G','MaxLength_C','Number_A','Number_C','Number_T','Number_G','Length_Gfree_5','Length_Gfree_3']]\n",
    "y=df['Measured_CaO_score_cells']"
   ]
  },
  {
   "cell_type": "code",
   "execution_count": 26,
   "id": "6350efc7-b3b4-425e-85fc-425800817a3e",
   "metadata": {},
   "outputs": [],
   "source": [
    "X_train_new=X.loc[df['Set']=='Training'];\n",
    "y_train_new=y.loc[df['Set']=='Training'];\n",
    "X_test_new=X.loc[df['Set']!='Training'];\n",
    "y_test_new=y.loc[df['Set']!='Training'];"
   ]
  },
  {
   "cell_type": "markdown",
   "id": "abbb1a7b-42f7-4df6-a2e8-bce817b640a0",
   "metadata": {},
   "source": [
    "**Build a Linear Regression model without regularization and with additional features** "
   ]
  },
  {
   "cell_type": "code",
   "execution_count": 27,
   "id": "ba5cc675-ab71-4cf6-86fc-af3980c5dffd",
   "metadata": {},
   "outputs": [
    {
     "name": "stdout",
     "output_type": "stream",
     "text": [
      "[ 6.01319303 -0.70669438 -4.3907814  -1.13672276 -4.75722225 -4.63214634\n",
      " -4.59492784 -8.6835193   0.0664958   1.18200154]\n",
      "135.53131976765096\n"
     ]
    }
   ],
   "source": [
    "LR_new= LinearRegression().fit(X_train_new,y_train_new)\n",
    "print(LR_new.coef_)\n",
    "print(LR_new.intercept_)"
   ]
  },
  {
   "cell_type": "code",
   "execution_count": 28,
   "id": "dfd74a0e-9390-407c-a5ce-68005e183157",
   "metadata": {},
   "outputs": [
    {
     "name": "stdout",
     "output_type": "stream",
     "text": [
      "812.1132344441913\n",
      "2610.425695680793\n"
     ]
    }
   ],
   "source": [
    "print(mean_squared_error(LR_new.predict(X_train_new),y_train_new))\n",
    "print(mean_squared_error(LR_new.predict(X_test_new),y_test_new))"
   ]
  },
  {
   "cell_type": "markdown",
   "id": "12410708-b25a-4437-9bac-a84aea89ce61",
   "metadata": {},
   "source": [
    "**Build a Lasso Regression model with L1 regularization and with additional features** "
   ]
  },
  {
   "cell_type": "code",
   "execution_count": 32,
   "id": "41f14376-fc8a-46b9-a0e8-12ffc2560e1a",
   "metadata": {},
   "outputs": [
    {
     "name": "stdout",
     "output_type": "stream",
     "text": [
      "Train MSE: 812.128984994577\n",
      "Test MSE: 2612.893587502172\n"
     ]
    },
    {
     "data": {
      "text/html": [
       "<style>#sk-container-id-1 {color: black;}#sk-container-id-1 pre{padding: 0;}#sk-container-id-1 div.sk-toggleable {background-color: white;}#sk-container-id-1 label.sk-toggleable__label {cursor: pointer;display: block;width: 100%;margin-bottom: 0;padding: 0.3em;box-sizing: border-box;text-align: center;}#sk-container-id-1 label.sk-toggleable__label-arrow:before {content: \"▸\";float: left;margin-right: 0.25em;color: #696969;}#sk-container-id-1 label.sk-toggleable__label-arrow:hover:before {color: black;}#sk-container-id-1 div.sk-estimator:hover label.sk-toggleable__label-arrow:before {color: black;}#sk-container-id-1 div.sk-toggleable__content {max-height: 0;max-width: 0;overflow: hidden;text-align: left;background-color: #f0f8ff;}#sk-container-id-1 div.sk-toggleable__content pre {margin: 0.2em;color: black;border-radius: 0.25em;background-color: #f0f8ff;}#sk-container-id-1 input.sk-toggleable__control:checked~div.sk-toggleable__content {max-height: 200px;max-width: 100%;overflow: auto;}#sk-container-id-1 input.sk-toggleable__control:checked~label.sk-toggleable__label-arrow:before {content: \"▾\";}#sk-container-id-1 div.sk-estimator input.sk-toggleable__control:checked~label.sk-toggleable__label {background-color: #d4ebff;}#sk-container-id-1 div.sk-label input.sk-toggleable__control:checked~label.sk-toggleable__label {background-color: #d4ebff;}#sk-container-id-1 input.sk-hidden--visually {border: 0;clip: rect(1px 1px 1px 1px);clip: rect(1px, 1px, 1px, 1px);height: 1px;margin: -1px;overflow: hidden;padding: 0;position: absolute;width: 1px;}#sk-container-id-1 div.sk-estimator {font-family: monospace;background-color: #f0f8ff;border: 1px dotted black;border-radius: 0.25em;box-sizing: border-box;margin-bottom: 0.5em;}#sk-container-id-1 div.sk-estimator:hover {background-color: #d4ebff;}#sk-container-id-1 div.sk-parallel-item::after {content: \"\";width: 100%;border-bottom: 1px solid gray;flex-grow: 1;}#sk-container-id-1 div.sk-label:hover label.sk-toggleable__label {background-color: #d4ebff;}#sk-container-id-1 div.sk-serial::before {content: \"\";position: absolute;border-left: 1px solid gray;box-sizing: border-box;top: 0;bottom: 0;left: 50%;z-index: 0;}#sk-container-id-1 div.sk-serial {display: flex;flex-direction: column;align-items: center;background-color: white;padding-right: 0.2em;padding-left: 0.2em;position: relative;}#sk-container-id-1 div.sk-item {position: relative;z-index: 1;}#sk-container-id-1 div.sk-parallel {display: flex;align-items: stretch;justify-content: center;background-color: white;position: relative;}#sk-container-id-1 div.sk-item::before, #sk-container-id-1 div.sk-parallel-item::before {content: \"\";position: absolute;border-left: 1px solid gray;box-sizing: border-box;top: 0;bottom: 0;left: 50%;z-index: -1;}#sk-container-id-1 div.sk-parallel-item {display: flex;flex-direction: column;z-index: 1;position: relative;background-color: white;}#sk-container-id-1 div.sk-parallel-item:first-child::after {align-self: flex-end;width: 50%;}#sk-container-id-1 div.sk-parallel-item:last-child::after {align-self: flex-start;width: 50%;}#sk-container-id-1 div.sk-parallel-item:only-child::after {width: 0;}#sk-container-id-1 div.sk-dashed-wrapped {border: 1px dashed gray;margin: 0 0.4em 0.5em 0.4em;box-sizing: border-box;padding-bottom: 0.4em;background-color: white;}#sk-container-id-1 div.sk-label label {font-family: monospace;font-weight: bold;display: inline-block;line-height: 1.2em;}#sk-container-id-1 div.sk-label-container {text-align: center;}#sk-container-id-1 div.sk-container {/* jupyter's `normalize.less` sets `[hidden] { display: none; }` but bootstrap.min.css set `[hidden] { display: none !important; }` so we also need the `!important` here to be able to override the default hidden behavior on the sphinx rendered scikit-learn.org. See: https://github.com/scikit-learn/scikit-learn/issues/21755 */display: inline-block !important;position: relative;}#sk-container-id-1 div.sk-text-repr-fallback {display: none;}</style><div id=\"sk-container-id-1\" class=\"sk-top-container\"><div class=\"sk-text-repr-fallback\"><pre>Pipeline(steps=[(&#x27;lasso&#x27;, Lasso())])</pre><b>In a Jupyter environment, please rerun this cell to show the HTML representation or trust the notebook. <br />On GitHub, the HTML representation is unable to render, please try loading this page with nbviewer.org.</b></div><div class=\"sk-container\" hidden><div class=\"sk-item sk-dashed-wrapped\"><div class=\"sk-label-container\"><div class=\"sk-label sk-toggleable\"><input class=\"sk-toggleable__control sk-hidden--visually\" id=\"sk-estimator-id-1\" type=\"checkbox\" ><label for=\"sk-estimator-id-1\" class=\"sk-toggleable__label sk-toggleable__label-arrow\">Pipeline</label><div class=\"sk-toggleable__content\"><pre>Pipeline(steps=[(&#x27;lasso&#x27;, Lasso())])</pre></div></div></div><div class=\"sk-serial\"><div class=\"sk-item\"><div class=\"sk-estimator sk-toggleable\"><input class=\"sk-toggleable__control sk-hidden--visually\" id=\"sk-estimator-id-2\" type=\"checkbox\" ><label for=\"sk-estimator-id-2\" class=\"sk-toggleable__label sk-toggleable__label-arrow\">Lasso</label><div class=\"sk-toggleable__content\"><pre>Lasso()</pre></div></div></div></div></div></div></div>"
      ],
      "text/plain": [
       "Pipeline(steps=[('lasso', Lasso())])"
      ]
     },
     "execution_count": 32,
     "metadata": {},
     "output_type": "execute_result"
    }
   ],
   "source": [
    "lasso_param_dict = {'lasso__alpha': np.logspace(-1.5, 2, 200)}\n",
    "lasso_pipe_new = Pipeline([('lasso', Lasso())])\n",
    "lasso_grid_new = GridSearchCV(lasso_pipe_new, param_grid=lasso_param_dict)\n",
    "lasso_grid_new.fit(X_train_new, y_train_new)\n",
    "lasso_train_preds_new = lasso_grid_new.predict(X_train_new)\n",
    "lasso_test_preds_new = lasso_grid_new.predict(X_test_new)\n",
    "lasso_train_mse = mean_squared_error(y_train_new, lasso_train_preds_new)\n",
    "lasso_test_mse = mean_squared_error(y_test_new, lasso_test_preds_new)\n",
    "### END SOLUTION\n",
    "\n",
    "# ANSWER CHECK\n",
    "print(f'Train MSE: {lasso_train_mse}')\n",
    "print(f'Test MSE: {lasso_test_mse}')\n",
    "lasso_pipe_new"
   ]
  },
  {
   "cell_type": "code",
   "execution_count": 38,
   "id": "078e4f40-ff55-460b-9971-701f7e832c41",
   "metadata": {},
   "outputs": [
    {
     "name": "stdout",
     "output_type": "stream",
     "text": [
      "Index(['MaxLength_A', 'MaxLength_T', 'MaxLength_G', 'MaxLength_C', 'Number_A',\n",
      "       'Number_C', 'Number_T', 'Number_G', 'Length_Gfree_5', 'Length_Gfree_3'],\n",
      "      dtype='object')\n",
      "[ 5.91790339 -0.67596593 -4.21699527 -1.06121127 -4.69282762 -4.60829061\n",
      " -4.56458577 -8.67590506  0.07060325  1.18327297]\n",
      "134.63347802673513\n"
     ]
    }
   ],
   "source": [
    "best_estimator_lasso_new = lasso_grid_new.best_estimator_\n",
    "best_model_lasso_new= lasso_grid_new.best_estimator_.named_steps['lasso']\n",
    "feature_names = X_train_new.columns\n",
    "coefs_lasso_new = best_model_lasso_new.coef_\n",
    "print(feature_names)\n",
    "print(coefs_lasso_new)\n",
    "print(best_model_lasso_new.intercept_)"
   ]
  },
  {
   "cell_type": "markdown",
   "id": "f83da2b6-b524-42dc-a033-5a9cc68619ad",
   "metadata": {},
   "source": [
    "**Build a Ridge Regression model with L2 regularization and with additional features** "
   ]
  },
  {
   "cell_type": "code",
   "execution_count": 36,
   "id": "6925a10b-aa5b-48bf-bbf3-ae1aa6911cf4",
   "metadata": {},
   "outputs": [
    {
     "name": "stdout",
     "output_type": "stream",
     "text": [
      "Train MSE: 812.1133561723116\n",
      "Test MSE: 2610.6325669118996\n"
     ]
    },
    {
     "data": {
      "text/html": [
       "<style>#sk-container-id-2 {color: black;}#sk-container-id-2 pre{padding: 0;}#sk-container-id-2 div.sk-toggleable {background-color: white;}#sk-container-id-2 label.sk-toggleable__label {cursor: pointer;display: block;width: 100%;margin-bottom: 0;padding: 0.3em;box-sizing: border-box;text-align: center;}#sk-container-id-2 label.sk-toggleable__label-arrow:before {content: \"▸\";float: left;margin-right: 0.25em;color: #696969;}#sk-container-id-2 label.sk-toggleable__label-arrow:hover:before {color: black;}#sk-container-id-2 div.sk-estimator:hover label.sk-toggleable__label-arrow:before {color: black;}#sk-container-id-2 div.sk-toggleable__content {max-height: 0;max-width: 0;overflow: hidden;text-align: left;background-color: #f0f8ff;}#sk-container-id-2 div.sk-toggleable__content pre {margin: 0.2em;color: black;border-radius: 0.25em;background-color: #f0f8ff;}#sk-container-id-2 input.sk-toggleable__control:checked~div.sk-toggleable__content {max-height: 200px;max-width: 100%;overflow: auto;}#sk-container-id-2 input.sk-toggleable__control:checked~label.sk-toggleable__label-arrow:before {content: \"▾\";}#sk-container-id-2 div.sk-estimator input.sk-toggleable__control:checked~label.sk-toggleable__label {background-color: #d4ebff;}#sk-container-id-2 div.sk-label input.sk-toggleable__control:checked~label.sk-toggleable__label {background-color: #d4ebff;}#sk-container-id-2 input.sk-hidden--visually {border: 0;clip: rect(1px 1px 1px 1px);clip: rect(1px, 1px, 1px, 1px);height: 1px;margin: -1px;overflow: hidden;padding: 0;position: absolute;width: 1px;}#sk-container-id-2 div.sk-estimator {font-family: monospace;background-color: #f0f8ff;border: 1px dotted black;border-radius: 0.25em;box-sizing: border-box;margin-bottom: 0.5em;}#sk-container-id-2 div.sk-estimator:hover {background-color: #d4ebff;}#sk-container-id-2 div.sk-parallel-item::after {content: \"\";width: 100%;border-bottom: 1px solid gray;flex-grow: 1;}#sk-container-id-2 div.sk-label:hover label.sk-toggleable__label {background-color: #d4ebff;}#sk-container-id-2 div.sk-serial::before {content: \"\";position: absolute;border-left: 1px solid gray;box-sizing: border-box;top: 0;bottom: 0;left: 50%;z-index: 0;}#sk-container-id-2 div.sk-serial {display: flex;flex-direction: column;align-items: center;background-color: white;padding-right: 0.2em;padding-left: 0.2em;position: relative;}#sk-container-id-2 div.sk-item {position: relative;z-index: 1;}#sk-container-id-2 div.sk-parallel {display: flex;align-items: stretch;justify-content: center;background-color: white;position: relative;}#sk-container-id-2 div.sk-item::before, #sk-container-id-2 div.sk-parallel-item::before {content: \"\";position: absolute;border-left: 1px solid gray;box-sizing: border-box;top: 0;bottom: 0;left: 50%;z-index: -1;}#sk-container-id-2 div.sk-parallel-item {display: flex;flex-direction: column;z-index: 1;position: relative;background-color: white;}#sk-container-id-2 div.sk-parallel-item:first-child::after {align-self: flex-end;width: 50%;}#sk-container-id-2 div.sk-parallel-item:last-child::after {align-self: flex-start;width: 50%;}#sk-container-id-2 div.sk-parallel-item:only-child::after {width: 0;}#sk-container-id-2 div.sk-dashed-wrapped {border: 1px dashed gray;margin: 0 0.4em 0.5em 0.4em;box-sizing: border-box;padding-bottom: 0.4em;background-color: white;}#sk-container-id-2 div.sk-label label {font-family: monospace;font-weight: bold;display: inline-block;line-height: 1.2em;}#sk-container-id-2 div.sk-label-container {text-align: center;}#sk-container-id-2 div.sk-container {/* jupyter's `normalize.less` sets `[hidden] { display: none; }` but bootstrap.min.css set `[hidden] { display: none !important; }` so we also need the `!important` here to be able to override the default hidden behavior on the sphinx rendered scikit-learn.org. See: https://github.com/scikit-learn/scikit-learn/issues/21755 */display: inline-block !important;position: relative;}#sk-container-id-2 div.sk-text-repr-fallback {display: none;}</style><div id=\"sk-container-id-2\" class=\"sk-top-container\"><div class=\"sk-text-repr-fallback\"><pre>Pipeline(steps=[(&#x27;ridge&#x27;, Ridge())])</pre><b>In a Jupyter environment, please rerun this cell to show the HTML representation or trust the notebook. <br />On GitHub, the HTML representation is unable to render, please try loading this page with nbviewer.org.</b></div><div class=\"sk-container\" hidden><div class=\"sk-item sk-dashed-wrapped\"><div class=\"sk-label-container\"><div class=\"sk-label sk-toggleable\"><input class=\"sk-toggleable__control sk-hidden--visually\" id=\"sk-estimator-id-3\" type=\"checkbox\" ><label for=\"sk-estimator-id-3\" class=\"sk-toggleable__label sk-toggleable__label-arrow\">Pipeline</label><div class=\"sk-toggleable__content\"><pre>Pipeline(steps=[(&#x27;ridge&#x27;, Ridge())])</pre></div></div></div><div class=\"sk-serial\"><div class=\"sk-item\"><div class=\"sk-estimator sk-toggleable\"><input class=\"sk-toggleable__control sk-hidden--visually\" id=\"sk-estimator-id-4\" type=\"checkbox\" ><label for=\"sk-estimator-id-4\" class=\"sk-toggleable__label sk-toggleable__label-arrow\">Ridge</label><div class=\"sk-toggleable__content\"><pre>Ridge()</pre></div></div></div></div></div></div></div>"
      ],
      "text/plain": [
       "Pipeline(steps=[('ridge', Ridge())])"
      ]
     },
     "execution_count": 36,
     "metadata": {},
     "output_type": "execute_result"
    }
   ],
   "source": [
    "ridge_param_dict = {'ridge__alpha': np.logspace(0, 3, 200)}\n",
    "ridge_pipe_new = Pipeline([('ridge', Ridge())])\n",
    "ridge_grid_new= GridSearchCV(ridge_pipe_new, param_grid=ridge_param_dict)\n",
    "ridge_grid_new.fit(X_train_new, y_train_new)\n",
    "ridge_train_preds_new = ridge_grid_new.predict(X_train_new)\n",
    "ridge_test_preds_new = ridge_grid_new.predict(X_test_new)\n",
    "ridge_train_mse = mean_squared_error(y_train_new, ridge_train_preds_new)\n",
    "ridge_test_mse = mean_squared_error(y_test_new, ridge_test_preds_new)\n",
    "### END SOLUTION\n",
    "\n",
    "# ANSWER CHECK\n",
    "print(f'Train MSE: {ridge_train_mse}')\n",
    "print(f'Test MSE: {ridge_test_mse}')\n",
    "ridge_pipe_new"
   ]
  },
  {
   "cell_type": "code",
   "execution_count": 37,
   "id": "45a0c3c9-6889-468b-9846-cf9f4d82e90a",
   "metadata": {},
   "outputs": [
    {
     "name": "stdout",
     "output_type": "stream",
     "text": [
      "Index(['MaxLength_A', 'MaxLength_T', 'MaxLength_G', 'MaxLength_C', 'Number_A',\n",
      "       'Number_C', 'Number_T', 'Number_G', 'Length_Gfree_5', 'Length_Gfree_3'],\n",
      "      dtype='object')\n",
      "[ 6.00360051 -0.70773395 -4.37796256 -1.13392743 -4.75118936 -4.62857536\n",
      " -4.59098834 -8.68107732  0.06694466  1.18229619]\n",
      "135.45144950809012\n"
     ]
    }
   ],
   "source": [
    "best_estimator_ridge_new = ridge_grid_new.best_estimator_\n",
    "best_model_ridge_new = ridge_grid_new.best_estimator_.named_steps['ridge']\n",
    "feature_names = X_train_new.columns\n",
    "coefs_ridge_new = best_model_ridge_new.coef_\n",
    "print(feature_names)\n",
    "print(coefs_ridge_new)\n",
    "print(best_model_ridge_new.intercept_)"
   ]
  },
  {
   "cell_type": "code",
   "execution_count": 56,
   "id": "11b656b4-b755-4749-b443-4ae7a7625fb7",
   "metadata": {},
   "outputs": [
    {
     "data": {
      "text/html": [
       "<div>\n",
       "<style scoped>\n",
       "    .dataframe tbody tr th:only-of-type {\n",
       "        vertical-align: middle;\n",
       "    }\n",
       "\n",
       "    .dataframe tbody tr th {\n",
       "        vertical-align: top;\n",
       "    }\n",
       "\n",
       "    .dataframe thead th {\n",
       "        text-align: right;\n",
       "    }\n",
       "</style>\n",
       "<table border=\"1\" class=\"dataframe\">\n",
       "  <thead>\n",
       "    <tr style=\"text-align: right;\">\n",
       "      <th></th>\n",
       "      <th>MaxLength_A</th>\n",
       "      <th>MaxLength_T</th>\n",
       "      <th>MaxLength_G</th>\n",
       "      <th>MaxLength_C</th>\n",
       "      <th>Number_A</th>\n",
       "      <th>Number_C</th>\n",
       "      <th>Number_T</th>\n",
       "      <th>Number_G</th>\n",
       "      <th>Length_Gfree_5</th>\n",
       "      <th>Length_Gfree_3</th>\n",
       "      <th>Intercept</th>\n",
       "    </tr>\n",
       "    <tr>\n",
       "      <th>Model</th>\n",
       "      <th></th>\n",
       "      <th></th>\n",
       "      <th></th>\n",
       "      <th></th>\n",
       "      <th></th>\n",
       "      <th></th>\n",
       "      <th></th>\n",
       "      <th></th>\n",
       "      <th></th>\n",
       "      <th></th>\n",
       "      <th></th>\n",
       "    </tr>\n",
       "  </thead>\n",
       "  <tbody>\n",
       "    <tr>\n",
       "      <th>Roche</th>\n",
       "      <td>0.0000</td>\n",
       "      <td>0.0000</td>\n",
       "      <td>0.0000</td>\n",
       "      <td>0.0000</td>\n",
       "      <td>-3.1263</td>\n",
       "      <td>-5.1100</td>\n",
       "      <td>-4.7217</td>\n",
       "      <td>-10.1264</td>\n",
       "      <td>0.0000</td>\n",
       "      <td>1.3577</td>\n",
       "      <td>136.0430</td>\n",
       "    </tr>\n",
       "    <tr>\n",
       "      <th>Linear Regression_new</th>\n",
       "      <td>6.0132</td>\n",
       "      <td>-0.7067</td>\n",
       "      <td>-4.3908</td>\n",
       "      <td>-1.1367</td>\n",
       "      <td>-4.7572</td>\n",
       "      <td>-4.6321</td>\n",
       "      <td>-4.5949</td>\n",
       "      <td>-8.6835</td>\n",
       "      <td>0.0665</td>\n",
       "      <td>1.1820</td>\n",
       "      <td>135.5313</td>\n",
       "    </tr>\n",
       "    <tr>\n",
       "      <th>Ridge_new</th>\n",
       "      <td>6.0036</td>\n",
       "      <td>-0.7077</td>\n",
       "      <td>-4.3780</td>\n",
       "      <td>-1.1340</td>\n",
       "      <td>-4.7512</td>\n",
       "      <td>-4.6286</td>\n",
       "      <td>-4.5910</td>\n",
       "      <td>-8.6811</td>\n",
       "      <td>0.0670</td>\n",
       "      <td>1.1823</td>\n",
       "      <td>135.4514</td>\n",
       "    </tr>\n",
       "    <tr>\n",
       "      <th>Lasso_new</th>\n",
       "      <td>5.9179</td>\n",
       "      <td>-0.6760</td>\n",
       "      <td>-4.2170</td>\n",
       "      <td>-1.0612</td>\n",
       "      <td>-4.6928</td>\n",
       "      <td>-4.6083</td>\n",
       "      <td>-4.5646</td>\n",
       "      <td>-8.6759</td>\n",
       "      <td>0.0706</td>\n",
       "      <td>1.1833</td>\n",
       "      <td>134.6335</td>\n",
       "    </tr>\n",
       "  </tbody>\n",
       "</table>\n",
       "</div>"
      ],
      "text/plain": [
       "                       MaxLength_A  MaxLength_T  MaxLength_G  MaxLength_C  \\\n",
       "Model                                                                       \n",
       "Roche                       0.0000       0.0000       0.0000       0.0000   \n",
       "Linear Regression_new       6.0132      -0.7067      -4.3908      -1.1367   \n",
       "Ridge_new                   6.0036      -0.7077      -4.3780      -1.1340   \n",
       "Lasso_new                   5.9179      -0.6760      -4.2170      -1.0612   \n",
       "\n",
       "                       Number_A  Number_C  Number_T  Number_G  Length_Gfree_5  \\\n",
       "Model                                                                           \n",
       "Roche                   -3.1263   -5.1100   -4.7217  -10.1264          0.0000   \n",
       "Linear Regression_new   -4.7572   -4.6321   -4.5949   -8.6835          0.0665   \n",
       "Ridge_new               -4.7512   -4.6286   -4.5910   -8.6811          0.0670   \n",
       "Lasso_new               -4.6928   -4.6083   -4.5646   -8.6759          0.0706   \n",
       "\n",
       "                       Length_Gfree_3  Intercept  \n",
       "Model                                             \n",
       "Roche                          1.3577   136.0430  \n",
       "Linear Regression_new          1.1820   135.5313  \n",
       "Ridge_new                      1.1823   135.4514  \n",
       "Lasso_new                      1.1833   134.6335  "
      ]
     },
     "execution_count": 56,
     "metadata": {},
     "output_type": "execute_result"
    }
   ],
   "source": [
    "# summarize the results of coefficients of all features from different models\n",
    "res_dict_new = {'Model': ['Roche model','Linear Regression_new','Ridge_new','Lasso_new'],\n",
    "            'MaxLength_A': [0, 6.0132, 6.0036, 5.9179],\n",
    "            'MaxLength_T': [0, -0.7067, -0.7077,-0.6760],\n",
    "            'MaxLength_G': [0, -4.3908, -4.3780,-4.2170],\n",
    "            'MaxLength_C': [0, -1.1367, -1.1340,-1.0612],\n",
    "            'Number_A': [-3.1263, -4.7572, -4.7512, -4.6928],\n",
    "            'Number_C': [-5.1100, -4.6321, -4.6286,-4.6083],\n",
    "            'Number_T': [-4.7217, -4.5949, -4.5910,-4.5646],\n",
    "            'Number_G': [-10.1264, -8.6835, -8.6811,-8.6759],\n",
    "            'Length_Gfree_5': [0, 0.0665, 0.0670,0.0706],\n",
    "            'Length_Gfree_3': [1.3577, 1.1820, 1.1823,1.1833],\n",
    "            'Intercept': [136.0430, 135.5313, 135.4514,134.6335],\n",
    "           }\n",
    "results_df_new = pd.DataFrame(res_dict_new).set_index('Model')\n",
    "results_df_new"
   ]
  },
  {
   "cell_type": "code",
   "execution_count": 39,
   "id": "4569e06d-cc67-4d9d-af12-3ca8a31453c2",
   "metadata": {},
   "outputs": [
    {
     "data": {
      "text/html": [
       "<div>\n",
       "<style scoped>\n",
       "    .dataframe tbody tr th:only-of-type {\n",
       "        vertical-align: middle;\n",
       "    }\n",
       "\n",
       "    .dataframe tbody tr th {\n",
       "        vertical-align: top;\n",
       "    }\n",
       "\n",
       "    .dataframe thead th {\n",
       "        text-align: right;\n",
       "    }\n",
       "</style>\n",
       "<table border=\"1\" class=\"dataframe\">\n",
       "  <thead>\n",
       "    <tr style=\"text-align: right;\">\n",
       "      <th></th>\n",
       "      <th>Training_MSE</th>\n",
       "      <th>Test_MSE</th>\n",
       "    </tr>\n",
       "    <tr>\n",
       "      <th>Model</th>\n",
       "      <th></th>\n",
       "      <th></th>\n",
       "    </tr>\n",
       "  </thead>\n",
       "  <tbody>\n",
       "    <tr>\n",
       "      <th>Roche model</th>\n",
       "      <td>830.87</td>\n",
       "      <td>2716.38</td>\n",
       "    </tr>\n",
       "    <tr>\n",
       "      <th>Linear Regression_new</th>\n",
       "      <td>812.11</td>\n",
       "      <td>2610.43</td>\n",
       "    </tr>\n",
       "    <tr>\n",
       "      <th>Lasso_new</th>\n",
       "      <td>812.13</td>\n",
       "      <td>2612.89</td>\n",
       "    </tr>\n",
       "    <tr>\n",
       "      <th>Ridge_new</th>\n",
       "      <td>812.11</td>\n",
       "      <td>2610.63</td>\n",
       "    </tr>\n",
       "  </tbody>\n",
       "</table>\n",
       "</div>"
      ],
      "text/plain": [
       "                       Training_MSE  Test_MSE\n",
       "Model                                        \n",
       "Roche model                  830.87   2716.38\n",
       "Linear Regression_new        812.11   2610.43\n",
       "Lasso_new                    812.13   2612.89\n",
       "Ridge_new                    812.11   2610.63"
      ]
     },
     "execution_count": 39,
     "metadata": {},
     "output_type": "execute_result"
    }
   ],
   "source": [
    "# summarize the results of from different models\n",
    "res_dict1 = {'Model': ['Roche model', 'Linear Regression_new','Lasso_new','Ridge_new'],\n",
    "            'Training_MSE': [830.87, 812.11,812.13,812.11],\n",
    "            'Test_MSE': [2716.38, 2610.43, 2612.89,2610.63],\n",
    "           }\n",
    "results_df1 = pd.DataFrame(res_dict1).set_index('Model')\n",
    "results_df1"
   ]
  },
  {
   "cell_type": "markdown",
   "id": "f7c75df2-b984-4bdc-ae57-711abf2f56e9",
   "metadata": {},
   "source": [
    "### Section 3 conclusions\n",
    "**1.After including new features, all the 3 models (Linear Regressio, Lasso Regression and Ridge Regression) start to outperform Roche model in terms of their smaller training_MSE and smaller test_MSE.**\n",
    "\n",
    "**2.However, even after including new features, all the 3 models (Linear Regressio, Lasso Regression and Ridge Regression) still perform very similarly in terms of the coefficients of all features and MSE values**\n",
    "\n",
    "**3. A long string of adenosine (MaxLength_A) can make the ASO less toxic; ASOs with more guanine (Number_G) in its sequence tend be more toxic**"
   ]
  },
  {
   "cell_type": "markdown",
   "id": "409e9136-1a96-4825-b187-9e6ddf8880f4",
   "metadata": {},
   "source": [
    "### Section 4: Using the classification tools to evaluate different regression models with additional features"
   ]
  },
  {
   "cell_type": "code",
   "execution_count": 41,
   "id": "7ba5ccce-baaa-423b-9d80-806a5a1a10c4",
   "metadata": {},
   "outputs": [],
   "source": [
    "df_test=df.loc[df['Set']!='Training']\n",
    "df_test_new=df_test.copy()\n",
    "df_test_new['lasso_predict_toxscore']=lasso_test_preds_new; \n",
    "df_test_new['ridge_predict_toxscore']=ridge_test_preds_new;\n",
    "df_test_new['linear_toxscore']=LR_new.predict(X_test_new);\n",
    "df_test_new['Base_predict_toxscore']=df_test['Calculated_score']"
   ]
  },
  {
   "cell_type": "markdown",
   "id": "46e3e81c-98d9-4847-bb7d-724f2fe26875",
   "metadata": {},
   "source": [
    "**calculate the sensitivity, specificity and accuracy of differnet models with newly addded features based on differnt threshold**"
   ]
  },
  {
   "cell_type": "code",
   "execution_count": 58,
   "id": "3c722d93-97c9-4667-b2ea-1e97da760879",
   "metadata": {},
   "outputs": [],
   "source": [
    "lasso_new_recall=[];ridge_new_recall=[];linear_new_recall=[];\n",
    "lasso_new_specificity=[]; ridge_new_specificity=[]; linear_new_specificity=[]\n",
    "lasso_new_accuracy=[]; ridge_new_accuracy=[];linear_new_accuracy=[];\n",
    "for i in np.arange(-10,120,0.5):\n",
    "    df_test_new.loc[df_test_new['lasso_predict_toxscore']>i,['lasso_predict_toxLabel']]='no'\n",
    "    df_test_new.loc[df_test_new['lasso_predict_toxscore']<=i,['lasso_predict_toxLabel']]='yes'\n",
    "    df_test_new.loc[df_test_new['ridge_predict_toxscore']>i,['ridge_predict_toxLabel']]='no'\n",
    "    df_test_new.loc[df_test_new['ridge_predict_toxscore']<=i,['ridge_predict_toxLabel']]='yes'\n",
    "    df_test_new.loc[df_test_new['linear_toxscore']>i,['linear_predict_toxLabel']]='no'\n",
    "    df_test_new.loc[df_test_new['linear_toxscore']<=i,['linear_predict_toxLabel']]='yes'\n",
    "\n",
    "    linear_new_recall.append(recall_score(df_test_new['tox_label'],df_test_new['linear_predict_toxLabel'],pos_label='yes'))\n",
    "    lasso_new_recall.append(recall_score(df_test_new['tox_label'],df_test_new['lasso_predict_toxLabel'],pos_label='yes'))\n",
    "    ridge_new_recall.append(recall_score(df_test_new['tox_label'],df_test_new['ridge_predict_toxLabel'],pos_label='yes'))\n",
    "    \n",
    "    linear_new_accuracy.append(accuracy_score(df_test_new['tox_label'],df_test_new['linear_predict_toxLabel']))\n",
    "    lasso_new_accuracy.append(accuracy_score(df_test_new['tox_label'],df_test_new['lasso_predict_toxLabel']))\n",
    "    ridge_new_accuracy.append(accuracy_score(df_test_new['tox_label'],df_test_new['lasso_predict_toxLabel']))\n",
    "    \n",
    "    linear_new_specificity.append(recall_score(df_test_new['tox_label'],df_test_new['linear_predict_toxLabel'],pos_label='no'))\n",
    "    lasso_new_specificity.append(recall_score(df_test_new['tox_label'],df_test_new['lasso_predict_toxLabel'],pos_label='no'))\n",
    "    ridge_new_specificity.append(recall_score(df_test_new['tox_label'],df_test_new['ridge_predict_toxLabel'],pos_label='no'))"
   ]
  },
  {
   "cell_type": "markdown",
   "id": "233efe13-f654-487c-aac1-05b5f9680e64",
   "metadata": {},
   "source": [
    "**plot the accuracy score curves**"
   ]
  },
  {
   "cell_type": "code",
   "execution_count": 78,
   "id": "0f7a4a13-3b4e-48d0-b281-dfcec89a50d0",
   "metadata": {},
   "outputs": [
    {
     "data": {
      "text/plain": [
       "Text(0.5, 0.98, 'Accuracy for different models with additional features')"
      ]
     },
     "execution_count": 78,
     "metadata": {},
     "output_type": "execute_result"
    },
    {
     "data": {
      "image/png": "[encoded data removed]",
      "text/plain": [
       "<Figure size 640x480 with 1 Axes>"
      ]
     },
     "metadata": {},
     "output_type": "display_data"
    }
   ],
   "source": [
    "fig = plt.figure()\n",
    "plt.plot(np.arange(-10,120,0.5),base_accuracy, c='red')\n",
    "plt.plot(np.arange(-10,120,0.5),linear_new_accuracy, c='orange')\n",
    "plt.plot(np.arange(-10,120,0.5),lasso_new_accuracy, c='green')\n",
    "plt.plot(np.arange(-10,120,0.5),ridge_new_accuracy, c='blue')\n",
    "plt.legend(['Base Roche model','Linear Regression','Lasso','Ridge'])\n",
    "plt.xlabel('Threshold')\n",
    "plt.ylabel('Accuracy score')\n",
    "fig.suptitle('Accuracy for different models with additional features')"
   ]
  },
  {
   "cell_type": "code",
   "execution_count": 129,
   "id": "b85b9af8-2e93-4eac-adca-8a50ef8ccfb7",
   "metadata": {},
   "outputs": [
    {
     "name": "stdout",
     "output_type": "stream",
     "text": [
      "0.8212807881773401\n",
      "0.8172413793103448\n",
      "0.8177339901477833\n",
      "0.8175369458128079\n"
     ]
    },
    {
     "data": {
      "image/png": "[encoded data removed]",
      "text/plain": [
       "<Figure size 640x480 with 4 Axes>"
      ]
     },
     "metadata": {},
     "output_type": "display_data"
    }
   ],
   "source": [
    "# use subplot to compare ROC curves in the same figure\n",
    "a1 = [1-x for x in base_specificity]\n",
    "a2= [1-x for x in linear_new_specificity]\n",
    "a3= [1-x for x in lasso_new_specificity]\n",
    "a4= [1-x for x in ridge_new_specificity]\n",
    "\n",
    "fig, ax = plt.subplots(nrows=2, ncols=2)\n",
    "fig.tight_layout()\n",
    "ax[0,0].plot(a1, base_recall, c='red')\n",
    "ax[0,1].plot(a2, linear_new_recall, c='orange')\n",
    "ax[1,0].plot(a3, lasso_new_recall, c='green')\n",
    "ax[1,1].plot(a4, ridge_new_recall, c='blue')\n",
    "\n",
    "ax[0,0].set(ylabel='Sensitivity')\n",
    "ax[0,1].set(ylabel='Sensitivity')\n",
    "ax[1,0].set(xlabel='1-Specificity',ylabel='Sensitivity')\n",
    "ax[1,1].set(xlabel='1-Specificity',ylabel='Sensitivity')\n",
    "ax[0,0].set_title('Roche Model (AUC=0.8213)',fontsize=8)\n",
    "ax[0,1].set_title('New Linear Model (AUC=0.8172)',fontsize=8)\n",
    "ax[1,0].set_title('New Lasso (AUC=0.8177)',fontsize=8)\n",
    "ax[1,1].set_title('New Ridge (AUC=0.8175)',fontsize=8)\n",
    "\n",
    "\n",
    "auc1=0 ; auc2=0; auc3=0; auc4=0;\n",
    "for k in range(len(a1)-3):\n",
    "    auc1 += (a1[k+1] - a1[k]) * (base_recall[k+1] + base_recall[k]) / 2\n",
    "for k in range(len(a1)-3):\n",
    "    auc2 += (a2[k+1] - a2[k]) * (linear_new_recall[k+1] + linear_new_recall[k]) / 2\n",
    "for k in range(len(a2)-3):\n",
    "    auc3 += (a3[k+1] - a3[k]) * (lasso_new_recall[k+1] + lasso_new_recall[k]) / 2\n",
    "for k in range(len(a2)-3):\n",
    "    auc4 += (a4[k+1] - a4[k]) * (ridge_new_recall[k+1] + ridge_new_recall[k]) / 2\n",
    "print(auc1)\n",
    "print(auc2)\n",
    "print(auc3)\n",
    "print(auc4)"
   ]
  },
  {
   "cell_type": "markdown",
   "id": "427c162b-98d2-4370-b966-77a71e09262d",
   "metadata": {},
   "source": [
    "### Section 4 conclusions\n",
    "**1.After including new features, all the 3 models (Linear Regressio, Lasso Regression and Ridge Regression) outperform Roche model in accuracy curve, because they have greater maximum accuracy and the drop of their accuracy is less steep when we raise the threshold**\n",
    "\n",
    "**2.All the 3 models (Linear Regressio, Lasso Regression and Ridge Regression) have very similar performance and they are almost completely overlapped in the accuracy curve plot**\n",
    "\n",
    "**3.After including new features, all the 3 models (Linear Regressio, Lasso Regression and Ridge Regression) don't outperform Roche model when they are evaluated using ROC curves**\n"
   ]
  },
  {
   "cell_type": "code",
   "execution_count": null,
   "id": "a3eecaa2-2a28-4817-a6de-2e3e192c1ab7",
   "metadata": {},
   "outputs": [],
   "source": []
  }
 ],
 "metadata": {
  "kernelspec": {
   "display_name": "Python 3 (ipykernel)",
   "language": "python",
   "name": "python3"
  },
  "language_info": {
   "codemirror_mode": {
    "name": "ipython",
    "version": 3
   },
   "file_extension": ".py",
   "mimetype": "text/x-python",
   "name": "python",
   "nbconvert_exporter": "python",
   "pygments_lexer": "ipython3",
   "version": "3.11.7"
  }
 },
 "nbformat": 4,
 "nbformat_minor": 5
}
